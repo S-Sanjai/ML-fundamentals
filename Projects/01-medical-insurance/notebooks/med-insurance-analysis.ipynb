{
  "cells": [
    {
      "cell_type": "code",
      "execution_count": 2,
      "id": "d2d179d1-0295-453d-88f2-d99015d1929f",
      "metadata": {
        "trusted": true
      },
      "outputs": [],
      "source": [
        "import pandas as pd\n",
        "import numpy as np"
      ]
    },
    {
      "cell_type": "code",
      "execution_count": 15,
      "id": "d4084f58-06af-4a74-8c7e-ebe430b93ccb",
      "metadata": {
        "trusted": true
      },
      "outputs": [],
      "source": [
        "import plotly.express as px\n",
        "import matplotlib\n",
        "import matplotlib.pyplot as plt\n",
        "import seaborn as sns\n",
        "%matplotlib inline"
      ]
    },
    {
      "cell_type": "code",
      "execution_count": null,
      "id": "61a2d6a1-ab2c-401b-9da2-7569e6042e08",
      "metadata": {
        "trusted": true
      },
      "outputs": [],
      "source": [
        "med_df = pd.read_csv('https://github.com/S-Sanjai/ML-fundamentals/blob/main/Projects/medical-insurance/data/medical.csv')"
      ]
    },
    {
      "cell_type": "code",
      "execution_count": 17,
      "id": "32963b1a",
      "metadata": {},
      "outputs": [],
      "source": [
        "pastel_red = 'rgba(255, 99, 132, 0.6)'\n",
        "pastel_green = 'rgba(144, 238, 144, 0.6)'\n",
        "Pastel_yellow ='rgba(255, 223, 102, 0.6)'\n",
        "Pastel_blue = 'rgba(173, 216, 230, 0.6)'\t\n",
        "Pastel_purple = 'rgba(218, 112, 214, 0.6)'\t\n",
        "Pastel_orange = 'rgba(255, 179, 102, 0.6)'\t\n",
        "Pastel_gray = 'rgba(200, 200, 200, 0.6)'"
      ]
    },
    {
      "cell_type": "code",
      "execution_count": 18,
      "id": "19c164a5-1f98-4dd5-8e65-d3807dbcef93",
      "metadata": {
        "trusted": true
      },
      "outputs": [],
      "source": [
        "med_df.info()"
      ]
    },
    {
      "cell_type": "code",
      "execution_count": 19,
      "id": "6ab115ff-dd04-4ec7-a9dc-7a7d10caca74",
      "metadata": {
        "trusted": true
      },
      "outputs": [],
      "source": [
        "med_df.describe()"
      ]
    },
    {
      "cell_type": "code",
      "execution_count": 20,
      "id": "0bdbcbeb-59cf-4694-b953-15c831818c0f",
      "metadata": {
        "trusted": true
      },
      "outputs": [],
      "source": [
        "sns.set_style('darkgrid')\n",
        "plt.style.use('dark_background')\n",
        "matplotlib.rcParams['font.size'] = 14\n",
        "matplotlib.rcParams['figure.figsize'] = (10,6)\n",
        "matplotlib.rcParams['figure.facecolor'] = '#00000000'"
      ]
    },
    {
      "cell_type": "code",
      "execution_count": 21,
      "id": "ba6fe6a7",
      "metadata": {},
      "outputs": [],
      "source": [
        "med_df.age.describe()"
      ]
    },
    {
      "cell_type": "markdown",
      "id": "f6849cb0",
      "metadata": {},
      "source": [
        "<b>To see the AGE distribution</b>"
      ]
    },
    {
      "cell_type": "code",
      "execution_count": 22,
      "id": "aa25499d",
      "metadata": {},
      "outputs": [],
      "source": [
        "graph = px.histogram(med_df, x='age', \n",
        "                     marginal='box', \n",
        "                     nbins=47, \n",
        "                     title='<b>Distribution of Age</b>')\n",
        "graph.update_layout(bargap=0.1,template='plotly_dark')\n",
        "graph.show()\n"
      ]
    },
    {
      "cell_type": "markdown",
      "id": "0fbd45e8",
      "metadata": {},
      "source": [
        "<b>To see the BMI distribution</b>"
      ]
    },
    {
      "cell_type": "code",
      "execution_count": 23,
      "id": "633d31c6",
      "metadata": {},
      "outputs": [],
      "source": [
        "graph = px.histogram(med_df, x='bmi', \n",
        "                     marginal='box', \n",
        "                     color_discrete_sequence=[pastel_red], \n",
        "                     title='<b>Distribution of BMI</b>')\n",
        "graph.update_layout(bargap=0.1, template='plotly_dark')\n",
        "graph.show()\n"
      ]
    },
    {
      "cell_type": "code",
      "execution_count": 24,
      "id": "95e520d3",
      "metadata": {},
      "outputs": [],
      "source": [
        "graph = px.histogram(med_df,\n",
        "                     x='charges',\n",
        "                     marginal='box', \n",
        "                     color_discrete_sequence=[pastel_green],\n",
        "                     title='<b>Annual Medical Charges</b>'\n",
        "                     )\n",
        "graph.update_layout(bargap=0.1, template='plotly_dark')\n",
        "graph.show()"
      ]
    },
    {
      "cell_type": "markdown",
      "id": "27e42a16",
      "metadata": {},
      "source": [
        "<b>To see the Annual Medical Charges distribution (Split:Smokers)</b>"
      ]
    },
    {
      "cell_type": "code",
      "execution_count": 25,
      "id": "e6948f67",
      "metadata": {},
      "outputs": [],
      "source": [
        "graph = px.histogram(med_df,\n",
        "                     x='charges',\n",
        "                     marginal='box',\n",
        "                     color='smoker',\n",
        "                     color_discrete_sequence=[pastel_red, pastel_green],\n",
        "                     title='<b>Annual Medical Charges</b>'\n",
        "                     )\n",
        "graph.update_layout(bargap=0.1, template='plotly_dark')\n",
        "graph.show()"
      ]
    },
    {
      "cell_type": "markdown",
      "id": "1335397b",
      "metadata": {},
      "source": [
        "<b>EXERCISE</b>"
      ]
    },
    {
      "cell_type": "code",
      "execution_count": 26,
      "id": "af9a777a",
      "metadata": {},
      "outputs": [],
      "source": [
        "graph = px.histogram(med_df,\n",
        "                     x='charges',\n",
        "                     marginal='box',\n",
        "                     color='sex',\n",
        "                     color_discrete_sequence=[pastel_red, Pastel_blue],\n",
        "                     title='<b>Annual Medical Charges (Split:Sex)</b>'\n",
        "                     )\n",
        "graph.update_layout(bargap=0.1, template='plotly_dark')\n",
        "graph.show()"
      ]
    },
    {
      "cell_type": "code",
      "execution_count": 27,
      "id": "829ef3c1",
      "metadata": {},
      "outputs": [],
      "source": [
        "graph = px.histogram(med_df,\n",
        "                     x='charges',\n",
        "                     marginal='box',\n",
        "                     color='region',\n",
        "                     color_discrete_sequence=[pastel_red, pastel_green, Pastel_yellow, Pastel_purple],\n",
        "                     title='<b>Annual Medical Charges (Split:Region)</b>'\n",
        "                     ) \n",
        "graph.update_layout(bargap=0.1, template='plotly_dark')\n",
        "graph.show()"
      ]
    },
    {
      "cell_type": "markdown",
      "id": "a3938abb",
      "metadata": {},
      "source": [
        "SMOKERS"
      ]
    },
    {
      "cell_type": "code",
      "execution_count": 28,
      "id": "a3ab138f",
      "metadata": {},
      "outputs": [],
      "source": [
        "med_df.smoker.value_counts()"
      ]
    },
    {
      "cell_type": "code",
      "execution_count": 29,
      "id": "75aba9d2",
      "metadata": {},
      "outputs": [],
      "source": [
        "px.histogram(med_df, \n",
        "             x='smoker', \n",
        "             color='sex', \n",
        "             title= '<b>SMOKERS</b>', \n",
        "             template='plotly_dark',\n",
        "             color_discrete_sequence=[pastel_red, Pastel_blue])\n",
        "             "
      ]
    },
    {
      "cell_type": "markdown",
      "id": "1c8dce2f",
      "metadata": {},
      "source": [
        "<b>Charges vs Other Variables</b>"
      ]
    },
    {
      "cell_type": "code",
      "execution_count": 30,
      "id": "db1c9db7",
      "metadata": {},
      "outputs": [],
      "source": [
        "graph = px.scatter(med_df,\n",
        "                   x='age',\n",
        "                   y='charges',\n",
        "                   color='smoker',\n",
        "                   color_discrete_sequence=[pastel_red, pastel_green],\n",
        "                   opacity=0.8,\n",
        "                   hover_data=['sex'],\n",
        "                   title='<b>Age vs Charges</b>',\n",
        "                   template='plotly_dark')\n",
        "graph.update_traces(marker_size=5)\n",
        "graph.show()"
      ]
    },
    {
      "cell_type": "code",
      "execution_count": 31,
      "id": "6fbfb53e",
      "metadata": {},
      "outputs": [],
      "source": [
        "graph = px.scatter(med_df,\n",
        "                   x='bmi',\n",
        "                   y='charges',\n",
        "                   color='smoker',\n",
        "                   color_discrete_sequence=[pastel_red, pastel_green],\n",
        "                   opacity=0.8,\n",
        "                   hover_data=['sex'],\n",
        "                   title='<b>BMI vs Charges</b>',\n",
        "                   template='plotly_dark')\n",
        "graph.update_traces(marker_size=5)\n",
        "graph.show()"
      ]
    },
    {
      "cell_type": "code",
      "execution_count": 32,
      "id": "2db15ed8",
      "metadata": {},
      "outputs": [],
      "source": [
        "graph = px.violin(med_df,\n",
        "                   x='sex',\n",
        "                   y='charges',\n",
        "                   color='smoker',\n",
        "                   color_discrete_sequence=[pastel_red, pastel_green],\n",
        "                   hover_data=['sex'],\n",
        "                   title='<b>Sex vs Charges</b>',\n",
        "                   template='plotly_dark')\n",
        "graph.update_traces(marker_size=5)\n",
        "graph.show()"
      ]
    },
    {
      "cell_type": "code",
      "execution_count": 33,
      "id": "d06e0690",
      "metadata": {},
      "outputs": [],
      "source": [
        "graph = px.violin(med_df,\n",
        "                   x='smoker',\n",
        "                   y='charges',\n",
        "                   color='smoker',\n",
        "                   color_discrete_sequence=[pastel_red, pastel_green],\n",
        "                   hover_data=['sex'],\n",
        "                   title='<b>Smoker vs Charges</b>',\n",
        "                   template='plotly_dark')\n",
        "graph.update_traces(marker_size=5)\n",
        "graph.show()"
      ]
    },
    {
      "cell_type": "code",
      "execution_count": 34,
      "id": "72617a0d",
      "metadata": {},
      "outputs": [],
      "source": [
        "graph = px.histogram(med_df,\n",
        "                   x='region',\n",
        "                #    y='smoker',\n",
        "                   color='smoker',\n",
        "                   color_discrete_sequence=[pastel_red, pastel_green],\n",
        "                   opacity=0.8,\n",
        "                   hover_data=['sex'],\n",
        "                   title='<b>BMI vs Charges</b>',\n",
        "                   template='plotly_dark')\n",
        "graph.show()"
      ]
    },
    {
      "cell_type": "markdown",
      "id": "43b04976",
      "metadata": {},
      "source": [
        "<B>CORRELATION</B>"
      ]
    },
    {
      "cell_type": "code",
      "execution_count": 35,
      "id": "b63b20f9",
      "metadata": {},
      "outputs": [],
      "source": [
        "med_df.charges.corr(med_df.age)"
      ]
    },
    {
      "cell_type": "code",
      "execution_count": 36,
      "id": "bbf9c3eb",
      "metadata": {},
      "outputs": [],
      "source": [
        "med_df.charges.corr(med_df.bmi)"
      ]
    },
    {
      "cell_type": "code",
      "execution_count": 37,
      "id": "2b29e32f",
      "metadata": {},
      "outputs": [],
      "source": [
        "smoker_val = {'no' : 0, 'yes' : 1}\n",
        "smoker_num = med_df.smoker.map(smoker_val)\n",
        "med_df.charges.corr(smoker_num)"
      ]
    },
    {
      "cell_type": "code",
      "execution_count": 38,
      "id": "c34fcbc3",
      "metadata": {},
      "outputs": [],
      "source": [
        "med_df['smoker_num'] = med_df['smoker'].map({'no':0, 'yes': 1})\n",
        "med_df_numeric = med_df.select_dtypes(include='number')\n",
        "med_df_numeric.corr()\n"
      ]
    },
    {
      "cell_type": "code",
      "execution_count": 39,
      "id": "0807da5d",
      "metadata": {},
      "outputs": [],
      "source": [
        "sns.heatmap(med_df_numeric.corr(), cmap='Reds', annot=True)\n",
        "plt.title('Correlation Matrix')"
      ]
    },
    {
      "cell_type": "markdown",
      "id": "4b512e3a",
      "metadata": {},
      "source": [
        "<b>Linear Regression using a Single Feature:</b>\n",
        "We know that the variables 'smokers' and 'age' have the strongest correlation with 'charges'. To get the Linear regression we need to first estimate 'charges' against 'age' but with non-smokers first, and later with smokers."
      ]
    },
    {
      "cell_type": "code",
      "execution_count": 40,
      "id": "2991c20b",
      "metadata": {},
      "outputs": [],
      "source": [
        "non_smoker_df = med_df[med_df.smoker == 'no']\n",
        "plt.style.use('dark_background')\n",
        "plt.title('Age vs Charges (non-smokers)')\n",
        "sns.scatterplot(data=non_smoker_df, x='age', y='charges')"
      ]
    },
    {
      "cell_type": "code",
      "execution_count": 41,
      "id": "dec7be9c",
      "metadata": {},
      "outputs": [],
      "source": [
        "def estimate_charges(age, w, b):\n",
        "    return w * age + b"
      ]
    },
    {
      "cell_type": "code",
      "execution_count": 42,
      "id": "7a74323a",
      "metadata": {},
      "outputs": [],
      "source": [
        "ages = med_df[med_df.smoker == 'no'].age\n",
        "ages"
      ]
    },
    {
      "cell_type": "code",
      "execution_count": 43,
      "id": "7f6f4573",
      "metadata": {},
      "outputs": [],
      "source": [
        "w = 50\n",
        "b = 100 #assume the weight and base\n",
        "estimate_charges(ages, w, b)"
      ]
    },
    {
      "cell_type": "code",
      "execution_count": 44,
      "id": "e575b803",
      "metadata": {},
      "outputs": [],
      "source": [
        "non_smoker_df.charges"
      ]
    },
    {
      "cell_type": "code",
      "execution_count": 45,
      "id": "6d10e62e",
      "metadata": {},
      "outputs": [],
      "source": [
        "def rmse(t, p):\n",
        "    return np.sqrt(np.mean(np.square(t - p)))"
      ]
    },
    {
      "cell_type": "code",
      "execution_count": 46,
      "id": "9432959a",
      "metadata": {},
      "outputs": [],
      "source": [
        "def try_parameters(w, b):\n",
        "    ages = non_smoker_df.age\n",
        "    target = non_smoker_df.charges\n",
        "    \n",
        "    estimated_charges = estimate_charges(ages, w, b)\n",
        "    \n",
        "    plt.plot(ages, estimated_charges, 'r', alpha=0.9);\n",
        "    plt.scatter(ages, target, s=8,alpha=0.8);\n",
        "    plt.xlabel('Age');\n",
        "    plt.ylabel('Charges')\n",
        "    plt.legend(['Estimate', 'Actual']);"
      ]
    },
    {
      "cell_type": "code",
      "execution_count": 47,
      "id": "e0b270a7",
      "metadata": {},
      "outputs": [],
      "source": [
        "try_parameters(290, -3300)"
      ]
    },
    {
      "cell_type": "code",
      "execution_count": 48,
      "id": "6d6e1c13",
      "metadata": {},
      "outputs": [],
      "source": [
        "w = 290\n",
        "b = -3300\n",
        "targets = non_smoker_df['charges']\n",
        "predicted = estimate_charges(non_smoker_df.age, w, b)"
      ]
    },
    {
      "cell_type": "code",
      "execution_count": 49,
      "id": "6bb579a1",
      "metadata": {},
      "outputs": [],
      "source": [
        "rmse(targets, predicted)"
      ]
    },
    {
      "cell_type": "code",
      "execution_count": 50,
      "id": "dd93b011",
      "metadata": {},
      "outputs": [],
      "source": [
        "def try_parameters(w, b):\n",
        "    ages = non_smoker_df.age\n",
        "    target = non_smoker_df.charges\n",
        "    \n",
        "    predictions = estimate_charges(ages, w, b)\n",
        "    \n",
        "    plt.plot(ages, predictions, 'r', alpha=0.9);\n",
        "    plt.scatter(ages, target, s=8,alpha=0.8);\n",
        "    plt.xlabel('Age');\n",
        "    plt.ylabel('Charges')\n",
        "    plt.legend(['Estimate', 'Actual']);\n",
        "    \n",
        "    loss = rmse(target, predictions)\n",
        "    print(\"RMSE Loss: \", loss)\n",
        "    "
      ]
    }
  ],
  "metadata": {
    "kernelspec": {
      "display_name": "Python 3",
      "language": "python",
      "name": "python3"
    },
    "language_info": {
      "codemirror_mode": {
        "name": "ipython",
        "version": 3
      },
      "file_extension": ".py",
      "mimetype": "text/x-python",
      "name": "python",
      "nbconvert_exporter": "python",
      "pygments_lexer": "ipython3",
      "version": "3.12.10"
    }
  },
  "nbformat": 4,
  "nbformat_minor": 5
}
