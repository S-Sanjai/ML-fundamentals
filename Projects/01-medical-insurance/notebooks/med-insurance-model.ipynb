{
 "cells": [
  {
   "cell_type": "code",
   "execution_count": null,
   "id": "7951a62c",
   "metadata": {},
   "outputs": [],
   "source": [
    "import pandas as pd\n",
    "import numpy as np"
   ]
  },
  {
   "cell_type": "code",
   "execution_count": null,
   "id": "7f495643",
   "metadata": {},
   "outputs": [],
   "source": [
    "import plotly.express as px\n",
    "import matplotlib\n",
    "import matplotlib.pyplot as plt\n",
    "import seaborn as sns\n",
    "%matplotlib inline"
   ]
  },
  {
   "cell_type": "code",
   "execution_count": null,
   "id": "9e4a727f",
   "metadata": {},
   "outputs": [],
   "source": [
    "from sklearn.linear_model import LinearRegression"
   ]
  },
  {
   "cell_type": "code",
   "execution_count": null,
   "id": "2c86d577",
   "metadata": {},
   "outputs": [],
   "source": [
    "med_df = pd.read_csv('https://github.com/S-Sanjai/ML-fundamentals/blob/main/Projects/medical-insurance/data/medical.csv?raw=true')"
   ]
  },
  {
   "cell_type": "code",
   "execution_count": null,
   "id": "266d14ef",
   "metadata": {},
   "outputs": [],
   "source": [
    "smoker_num = med_df['smoker'].apply(lambda x: 1 if x == 'yes' else 0)\n",
    "med_df['smoker_num'] = smoker_num"
   ]
  },
  {
   "cell_type": "code",
   "execution_count": null,
   "id": "cb76d2c5",
   "metadata": {},
   "outputs": [],
   "source": [
    "def rmse(target_val, predicted_val):\n",
    "    return np.sqrt(np.mean(np.square(target_val - predicted_val)))"
   ]
  },
  {
   "cell_type": "code",
   "execution_count": null,
   "id": "ccc7c590",
   "metadata": {},
   "outputs": [],
   "source": [
    "model = LinearRegression()"
   ]
  },
  {
   "cell_type": "code",
   "execution_count": null,
   "id": "551c396f",
   "metadata": {},
   "outputs": [],
   "source": [
    "non_smoker_df = med_df[med_df.smoker == 'no']\n",
    "inputs = non_smoker_df[['age']]\n",
    "targets = non_smoker_df.charges\n",
    "print('inputs.shape :', inputs.shape)\n",
    "print('targets.shape :', targets.shape)"
   ]
  },
  {
   "cell_type": "code",
   "execution_count": null,
   "id": "ca317855",
   "metadata": {},
   "outputs": [],
   "source": [
    "model.fit(inputs, targets)\n"
   ]
  },
  {
   "cell_type": "code",
   "execution_count": null,
   "id": "2227a02a",
   "metadata": {},
   "outputs": [],
   "source": [
    "model.predict(np.array([[23],[40],[70]]))"
   ]
  },
  {
   "cell_type": "code",
   "execution_count": null,
   "id": "df662513",
   "metadata": {},
   "outputs": [],
   "source": [
    "predictions = model.predict(inputs)"
   ]
  },
  {
   "cell_type": "code",
   "execution_count": null,
   "id": "1ecb35e2",
   "metadata": {},
   "outputs": [],
   "source": [
    "print(rmse(targets, predictions))\n",
    "print(model.coef_,model.intercept_)"
   ]
  },
  {
   "cell_type": "code",
   "execution_count": null,
   "id": "c1451a0b",
   "metadata": {},
   "outputs": [],
   "source": [
    "sns.set_style('darkgrid')\n",
    "plt.style.use('dark_background')\n",
    "matplotlib.rcParams['font.size'] = 14\n",
    "matplotlib.rcParams['figure.figsize'] = (10,6)\n",
    "matplotlib.rcParams['figure.facecolor'] = '#00000000'"
   ]
  },
  {
   "cell_type": "code",
   "execution_count": null,
   "id": "5d9fa098",
   "metadata": {},
   "outputs": [],
   "source": [
    "def try_parameters(w, b):\n",
    "    ages = non_smoker_df.age\n",
    "    target = non_smoker_df.charges\n",
    "    \n",
    "    plt.plot(ages, predictions, 'r', alpha=0.9);\n",
    "    plt.scatter(ages, target, s=8,alpha=0.8);\n",
    "    plt.xlabel('Age');\n",
    "    plt.ylabel('Charges')\n",
    "    plt.legend(['Estimate', 'Actual']);\n",
    "    \n",
    "    loss = rmse(target, predictions)\n",
    "    print(\"RMSE Loss: \", loss)\n",
    "    \n",
    "try_parameters(model.coef_,model.intercept_)"
   ]
  },
  {
   "cell_type": "code",
   "execution_count": null,
   "id": "7d8cec90",
   "metadata": {},
   "outputs": [],
   "source": [
    "smokers_df = med_df[med_df.smoker == 'yes']\n",
    "inputs_smokers = smokers_df[['age']]\n",
    "targets_smokers = smokers_df.charges"
   ]
  },
  {
   "cell_type": "code",
   "execution_count": null,
   "id": "455a5876",
   "metadata": {},
   "outputs": [],
   "source": [
    "model.fit(inputs_smokers,targets_smokers)"
   ]
  },
  {
   "cell_type": "code",
   "execution_count": null,
   "id": "88fa645e",
   "metadata": {},
   "outputs": [],
   "source": [
    "predictions = model.predict(inputs_smokers)"
   ]
  },
  {
   "cell_type": "code",
   "execution_count": null,
   "id": "795af92a",
   "metadata": {},
   "outputs": [],
   "source": [
    "rmse(targets_smokers, predictions)"
   ]
  },
  {
   "cell_type": "code",
   "execution_count": null,
   "id": "74ec9878",
   "metadata": {},
   "outputs": [],
   "source": [
    "model.coef_, model.intercept_"
   ]
  },
  {
   "cell_type": "code",
   "execution_count": null,
   "id": "282b22d7",
   "metadata": {},
   "outputs": [],
   "source": [
    "def try_parameters(w, b):\n",
    "    ages = smokers_df.age\n",
    "    target = smokers_df.charges\n",
    "    \n",
    "    plt.plot(ages, predictions, 'r', alpha=0.9);\n",
    "    plt.scatter(ages, target, s=8,alpha=0.8);\n",
    "    plt.xlabel('Age');\n",
    "    plt.ylabel('Charges')\n",
    "    plt.legend(['Estimate', 'Actual']);\n",
    "    \n",
    "    loss = rmse(target, predictions)\n",
    "    print(\"RMSE Loss: \", loss)\n",
    "    \n",
    "try_parameters(model.coef_,model.intercept_)"
   ]
  },
  {
   "cell_type": "markdown",
   "id": "5ee6e650",
   "metadata": {},
   "source": [
    "<b> Linear Regression Using Multiple Variables: </b> <br>\n",
    "so now we going to add another parameter to our model on top of the existing one to see how good or bad our model performs. In this case we are going to add 'BMI' as a parameter to the model. <br>\n",
    "<b>new relationsip with charges:</b> <br>\n",
    "<i>charges = w1 X age + w2 X bmi + b</i>"
   ]
  },
  {
   "cell_type": "code",
   "execution_count": null,
   "id": "93c663f1",
   "metadata": {},
   "outputs": [],
   "source": [
    "inputs = non_smoker_df[['age', 'bmi']]\n",
    "targets = non_smoker_df.charges\n",
    "\n",
    "model.fit(inputs, targets)\n",
    "predictions = model.predict(inputs)\n",
    "\n",
    "loss = rmse(targets, predictions)\n",
    "print(\"RMSE Loss: \", loss)"
   ]
  },
  {
   "cell_type": "code",
   "execution_count": null,
   "id": "21d870f7",
   "metadata": {},
   "outputs": [],
   "source": [
    "non_smoker_df.charges.corr(non_smoker_df.age), non_smoker_df.charges.corr(non_smoker_df.bmi)"
   ]
  },
  {
   "cell_type": "code",
   "execution_count": null,
   "id": "34e5dd45",
   "metadata": {},
   "outputs": [],
   "source": [
    "model.coef_, model.intercept_"
   ]
  },
  {
   "cell_type": "markdown",
   "id": "d6d1dfcf",
   "metadata": {},
   "source": [
    "So as we can see the change in RMSE value (~$0.20), BMI is not a strong variable to predcit the charges especially with the non-smokers. 'bmi' also has a very weak coorelation with charges<b>(0.0840)</b> as compared to 'age' <b>(0.6279)</b>.<br> and also the weight of 'bmi' <i>W2</i> is very less compared to <i>W1</i>."
   ]
  },
  {
   "cell_type": "code",
   "execution_count": null,
   "id": "0e4c8f93",
   "metadata": {},
   "outputs": [],
   "source": [
    "model = LinearRegression().fit(non_smoker_df[['bmi']], non_smoker_df.charges)\n",
    "predictions = model.predict(non_smoker_df[['bmi']])\n",
    "loss = rmse(non_smoker_df.charges, predictions)\n",
    "print(\"RMSE Loss: \", loss)"
   ]
  },
  {
   "cell_type": "markdown",
   "id": "420219f6",
   "metadata": {},
   "source": [
    "so here as we can see the RMSE loss (5969.7725) is higher than the previous one(4662.5057), which means that the model is not as good as the previous one."
   ]
  },
  {
   "cell_type": "code",
   "execution_count": null,
   "id": "89470cbc",
   "metadata": {},
   "outputs": [],
   "source": [
    "fig = px.scatter_3d(non_smoker_df, x='age', y='bmi', z='charges')\n",
    "fig.update_traces(marker_size=3, marker_opacity=0.5)\n",
    "fig.show()"
   ]
  },
  {
   "cell_type": "markdown",
   "id": "29f0898b",
   "metadata": {},
   "source": [
    "Now we will add another feature, `children`, to our model:\n",
    "\n",
    "$charges = w_1 \\times age + w_2 \\times bmi + w_3 \\times children + b$"
   ]
  },
  {
   "cell_type": "code",
   "execution_count": null,
   "id": "7008d22b",
   "metadata": {},
   "outputs": [],
   "source": [
    "non_smoker_df.charges.corr(non_smoker_df.children)"
   ]
  },
  {
   "cell_type": "code",
   "execution_count": null,
   "id": "ab678446",
   "metadata": {},
   "outputs": [],
   "source": [
    "graph = px.strip(non_smoker_df, x='children', y='charges', color='smoker')\n",
    "graph.show()"
   ]
  },
  {
   "cell_type": "markdown",
   "id": "45b51e8e",
   "metadata": {},
   "source": [
    "as we can see here there is somewhat linear relationship between the number of children and the charges, but it is not very strong."
   ]
  },
  {
   "cell_type": "code",
   "execution_count": null,
   "id": "ba1be09e",
   "metadata": {},
   "outputs": [],
   "source": [
    "inputs, targets = non_smoker_df[['age', 'bmi', 'children']], non_smoker_df.charges\n",
    "\n",
    "model = LinearRegression().fit(inputs, targets)\n",
    "\n",
    "predictions = model.predict(inputs)\n",
    "\n",
    "loss = rmse(targets, predictions)\n",
    "print(\"RMSE Loss: \", loss)"
   ]
  },
  {
   "cell_type": "markdown",
   "id": "03e6e6b2",
   "metadata": {},
   "source": [
    "as we can see there is a not so strong correlation between the number of children and the charges, but it is still little higher than the correlation between the bmi and the charges."
   ]
  },
  {
   "cell_type": "markdown",
   "id": "6d1cfa50",
   "metadata": {},
   "source": [
    "<b>We will try the model on the smokers dataset as well</b>"
   ]
  },
  {
   "cell_type": "code",
   "execution_count": null,
   "id": "8e3ff5b3",
   "metadata": {},
   "outputs": [],
   "source": [
    "inputs_smokers, targets_smokers = smokers_df[['age', 'bmi', 'children']], smokers_df.charges\n",
    "\n",
    "model_smokers = LinearRegression().fit(inputs_smokers, targets_smokers)\n",
    "predictions_smokers = model_smokers.predict(inputs_smokers)\n",
    "\n",
    "loss_smokers = rmse(targets_smokers, predictions_smokers)\n",
    "print(\"RMSE Loss Smokers: \", loss_smokers)"
   ]
  },
  {
   "cell_type": "markdown",
   "id": "b4e130c9",
   "metadata": {},
   "source": [
    "So as we can see, the model for smokers is worse than the one for non-smokers.\n",
    "But when we see the coorelation with the variables, we can say that the bmi and and age are the reasons for wich there are two cluseters in the graph"
   ]
  },
  {
   "cell_type": "code",
   "execution_count": null,
   "id": "48743c72",
   "metadata": {},
   "outputs": [],
   "source": [
    "smokers_df.charges.corr(smokers_df.children), smokers_df.charges.corr(smokers_df.age), smokers_df.charges.corr(smokers_df.bmi)"
   ]
  },
  {
   "cell_type": "code",
   "execution_count": null,
   "id": "bf1b75d3",
   "metadata": {},
   "outputs": [],
   "source": [
    "graph = px.scatter_3d(smokers_df, x='age', y='bmi', z='charges')\n",
    "graph.update_traces(marker_size=3, marker_opacity=0.5)\n",
    "graph.show()"
   ]
  },
  {
   "cell_type": "markdown",
   "id": "9bbc986c",
   "metadata": {},
   "source": [
    "Even though the model has a lower RMSE for non-smokers, the model for smokers has a higher RMSE. This is because the charges for smokers are generally higher and more variable than those for non-smokers, leading to a larger error in predictions."
   ]
  },
  {
   "cell_type": "markdown",
   "id": "1394a384",
   "metadata": {},
   "source": [
    "Now lets use a single model for the entire dataset, including both smokers and non-smokers."
   ]
  },
  {
   "cell_type": "code",
   "execution_count": null,
   "id": "42597267",
   "metadata": {},
   "outputs": [],
   "source": [
    "inputs, targets = med_df[['age', 'bmi', 'children']], med_df.charges\n",
    "\n",
    "model = LinearRegression().fit(inputs, targets)\n",
    "predictions = model.predict(inputs)\n",
    "\n",
    "loss = rmse(targets, predictions)\n",
    "print(\"RMSE Loss All: \", loss)"
   ]
  },
  {
   "cell_type": "markdown",
   "id": "eab23444",
   "metadata": {},
   "source": [
    "So we can see that the model is not performing well on the smokers data, and the overall model is also not performing well. This indicates that there are likely other factors influencing the charges that are not captured by the current features."
   ]
  },
  {
   "cell_type": "markdown",
   "id": "7dc25fac",
   "metadata": {},
   "source": [
    "<b>Using Categorical Features for Machine Learning</b><br>\n",
    "So far we've been using only numeric columns, since we can only perform computations with numbers. If we could use categorical columns like \"smoker\", we can train a single model for the entire dataset.\n",
    "<br>\n",
    "To use the categorical columns, we simply need to convert them to numbers. There are three common techniques for doing this:\n",
    "<br><b>1. </b>\n",
    "<i>If a categorical column has just two categories (it's called a binary category), then we can replace their values with 0 and 1.\n",
    "<br><b>2. </b>\n",
    "If a categorical column has more than 2 categories, we can perform one-hot encoding i.e. create a new column for each category with 1s and 0s.\n",
    "<br><b>3. </b>\n",
    "If the categories have a natural order (e.g. cold, neutral, warm, hot), then they can be converted to numbers (e.g. 1, 2, 3, 4) preserving the order. These are called ordinals</i>"
   ]
  },
  {
   "cell_type": "markdown",
   "id": "a23f3071",
   "metadata": {},
   "source": [
    "<b>Binary categories:</b> <br>\n",
    "<br>\n",
    "The \"smoker\" column is binary, so we can use it as a feature in our model.<br>\n",
    "We can convert it to a numerical feature by mapping 'yes' to 1 and 'no' to 0."
   ]
  },
  {
   "cell_type": "code",
   "execution_count": null,
   "id": "4ce530a5",
   "metadata": {},
   "outputs": [],
   "source": [
    "smoker_num"
   ]
  },
  {
   "cell_type": "code",
   "execution_count": null,
   "id": "5677ee9c",
   "metadata": {},
   "outputs": [],
   "source": [
    "med_df"
   ]
  },
  {
   "cell_type": "code",
   "execution_count": null,
   "id": "315437d9",
   "metadata": {},
   "outputs": [],
   "source": [
    "med_df.charges.corr(med_df.smoker_num)"
   ]
  },
  {
   "cell_type": "markdown",
   "id": "b53f2d6a",
   "metadata": {},
   "source": [
    "We can now use the `smoker_num` column for linear regression.\n",
    "\n",
    "$charges = w_1 \\times age + w_2 \\times bmi + w_3 \\times children + w_4 \\times smoker + b$"
   ]
  },
  {
   "cell_type": "code",
   "execution_count": null,
   "id": "35ef1f53",
   "metadata": {},
   "outputs": [],
   "source": [
    "inputs = med_df[['age', 'bmi', 'children', 'smoker_num']]\n",
    "targets = med_df.charges\n",
    "\n",
    "model = LinearRegression().fit(inputs, targets)\n",
    "predictions = model.predict(inputs)\n",
    "\n",
    "loss = rmse(targets, predictions)\n",
    "print(\"RMSE Loss All with Smoker: \", loss)"
   ]
  },
  {
   "cell_type": "markdown",
   "id": "a206b182",
   "metadata": {},
   "source": [
    "The loss reduces from `11355` to `6056`, almost by 50%! This is an important lesson: never ignore categorical data.\n",
    "\n",
    "\n",
    "Let's try adding the \"sex\" column as well.\n",
    "\n",
    "$charges = w_1 \\times age + w_2 \\times bmi + w_3 \\times charges + w_4 \\times smoker + w_5 \\times sex + b$"
   ]
  },
  {
   "cell_type": "code",
   "execution_count": null,
   "id": "92583c01",
   "metadata": {},
   "outputs": [],
   "source": [
    "sex_code = {'female': 0, 'male': 1}\n",
    "med_df['sex_code'] = med_df.sex.map(sex_code)\n",
    "med_df.charges.corr(med_df.sex_code)"
   ]
  },
  {
   "cell_type": "markdown",
   "id": "ad4e0357",
   "metadata": {},
   "source": [
    "so there is no strong correlation between '`sex`' and '`charges`'"
   ]
  },
  {
   "cell_type": "code",
   "execution_count": null,
   "id": "091eb1c0",
   "metadata": {},
   "outputs": [],
   "source": [
    "inputs = med_df[['age', 'bmi', 'children', 'smoker_num', 'sex_code']]\n",
    "targets = med_df.charges\n",
    "\n",
    "model = LinearRegression().fit(inputs, targets)\n",
    "predictions = model.predict(inputs)\n",
    "\n",
    "loss = rmse(targets, predictions)\n",
    "print(\"RMSE Loss\", loss)"
   ]
  },
  {
   "cell_type": "markdown",
   "id": "491b83ee",
   "metadata": {},
   "source": [
    "As we expeted, the reduction in `RMSE` is not significant, but the model is now more complex and can be used to predict charges for both `smokers` and `non-smokers`."
   ]
  },
  {
   "cell_type": "markdown",
   "id": "616e4639",
   "metadata": {},
   "source": [
    "\n",
    "### One-hot Encoding\n",
    "\n",
    "The \"region\" column contains 4 values, so we'll need to use hot encoding and create a new column for each region.\n",
    "\n",
    "![](https://i.imgur.com/n8GuiOO.png)"
   ]
  },
  {
   "cell_type": "code",
   "execution_count": null,
   "id": "842e772e",
   "metadata": {},
   "outputs": [],
   "source": [
    "from sklearn import preprocessing\n",
    "enc = preprocessing.OneHotEncoder()\n",
    "enc.fit(med_df[['region']])\n",
    "enc.categories_"
   ]
  },
  {
   "cell_type": "code",
   "execution_count": null,
   "id": "822ba0e5",
   "metadata": {},
   "outputs": [],
   "source": [
    "onehot = enc.transform(med_df[['region']]).toarray()\n",
    "onehot"
   ]
  },
  {
   "cell_type": "code",
   "execution_count": null,
   "id": "fd8e3614",
   "metadata": {},
   "outputs": [],
   "source": [
    "med_df[['region_northeast', 'region_southeast', 'region_southwest', 'region_northwest']] = onehot\n",
    "med_df"
   ]
  },
  {
   "cell_type": "markdown",
   "id": "7a80e0ae",
   "metadata": {},
   "source": [
    "Let's include the region columns into our linear regression model.\n",
    "\n",
    "$charges = w_1 \\times age + w_2 \\times bmi + w_3 \\times children + w_4 \\times smoker + w_5 \\times sex + w_6 \\times region + b$"
   ]
  },
  {
   "cell_type": "code",
   "execution_count": null,
   "id": "f7d6c16a",
   "metadata": {},
   "outputs": [],
   "source": [
    "input_cols = ['age', 'bmi', 'children', 'smoker_num', 'sex_code','region_northeast', 'region_southeast', 'region_southwest', 'region_northwest']\n",
    "inputs, targets = med_df[input_cols], med_df.charges\n",
    "\n",
    "model = LinearRegression().fit(inputs, targets)\n",
    "predictions = model.predict(inputs)\n",
    "\n",
    "loss = rmse(targets, predictions)\n",
    "print(\"RMSE Loss with OneHot Encoding: \", loss)"
   ]
  },
  {
   "cell_type": "markdown",
   "id": "24fd43ab",
   "metadata": {},
   "source": [
    "Once again, the RMSE loss is not significantly improved by adding the region feature"
   ]
  },
  {
   "cell_type": "code",
   "execution_count": null,
   "id": "49e3c81d",
   "metadata": {},
   "outputs": [],
   "source": [
    "print(model.predict(np.array([[23, 22, 0, 0, 0, 0, 1, 0, 0]])))\n",
    "print(model.predict(np.array([[40, 30, 2, 1, 1, 0, 0, 0, 1]])))"
   ]
  },
  {
   "cell_type": "markdown",
   "id": "c957ecbc",
   "metadata": {},
   "source": [
    "## Model Improvements\n",
    "\n",
    "Let's discuss and apply some more improvements to our model.\n",
    "\n",
    "### Feature Scaling\n",
    "\n",
    "Recall that due to regulatory requirements, we also need to explain the rationale behind the predictions our model. \n",
    "\n",
    "$charges = w_1 \\times age + w_2 \\times bmi + w_3 \\times children + w_4 \\times smoker + w_5 \\times sex + w_6 \\times region + b$\n",
    "\n",
    "To compare the importance of each feature in the model, our first instinct might be to compare their weights. "
   ]
  },
  {
   "cell_type": "code",
   "execution_count": null,
   "id": "8bd24981",
   "metadata": {},
   "outputs": [],
   "source": [
    "model.coef_, model.intercept_"
   ]
  },
  {
   "cell_type": "markdown",
   "id": "4606da13",
   "metadata": {},
   "source": [
    "#### To visualize the Coefficients better we will but them in a Pandas Dataframe"
   ]
  },
  {
   "cell_type": "code",
   "execution_count": null,
   "id": "47d3fe19",
   "metadata": {},
   "outputs": [],
   "source": [
    "weights = pd.DataFrame({'feature': np.append(input_cols,'Intercept'), 'weight': np.append(model.coef_, model.intercept_)})\n",
    "weights"
   ]
  },
  {
   "cell_type": "markdown",
   "id": "3668ae26",
   "metadata": {},
   "source": [
    "While it seems like BMI and the \"northeast\" have a higher weight than age, keep in mind that the range of values for BMI is limited (15 to 40) and the \"northeast\" column only takes the values 0 and 1.\n",
    "\n",
    "Because different columns have different ranges, we run into two issues:\n",
    "\n",
    "1. We can't compare the weights of different column to identify which features are important\n",
    "2. A column with a larger range of inputs may disproportionately affect the loss and dominate the optimization process.\n",
    "\n",
    "For this reason, it's common practice to scale (or standardize) the values in numeric column by subtracting the mean and dividing by the standard deviation.\n",
    "\n",
    "![](https://i.imgur.com/dT5fLFI.png)\n",
    "\n",
    "We can apply scaling using the StandardScaler class from `scikit-learn`."
   ]
  },
  {
   "cell_type": "code",
   "execution_count": null,
   "id": "2f6d6702",
   "metadata": {},
   "outputs": [],
   "source": [
    "from sklearn.preprocessing import StandardScaler"
   ]
  },
  {
   "cell_type": "code",
   "execution_count": null,
   "id": "2429fea4",
   "metadata": {},
   "outputs": [],
   "source": [
    "num_cols = ['age', 'bmi', 'children']\n",
    "scaler = StandardScaler()\n",
    "scaler.fit(med_df[num_cols])"
   ]
  },
  {
   "cell_type": "code",
   "execution_count": null,
   "id": "0eb68151",
   "metadata": {},
   "outputs": [],
   "source": [
    "scaler.mean_, scaler.var_"
   ]
  },
  {
   "cell_type": "code",
   "execution_count": null,
   "id": "f47a6b25",
   "metadata": {},
   "outputs": [],
   "source": [
    "scaled_inputs = scaler.transform(med_df[num_cols])\n",
    "scaled_inputs"
   ]
  },
  {
   "cell_type": "code",
   "execution_count": null,
   "id": "f07b3849",
   "metadata": {},
   "outputs": [],
   "source": [
    "cat_cols = ['smoker_num', 'sex_code', 'region_northeast', 'region_northwest', 'region_southeast', 'region_southwest']\n",
    "categorical_data = med_df[cat_cols].values\n",
    "categorical_data"
   ]
  },
  {
   "cell_type": "code",
   "execution_count": null,
   "id": "9e24c96b",
   "metadata": {},
   "outputs": [],
   "source": [
    "inputs = np.concatenate((scaled_inputs, categorical_data), axis=1)\n",
    "targets = med_df.charges\n",
    "\n",
    "model = LinearRegression().fit(inputs, targets)\n",
    "predictions = model.predict(inputs)\n",
    "\n",
    "loss = rmse(targets, predictions)\n",
    "print(\"RMSE Loss with StandardScaler: \", loss)"
   ]
  },
  {
   "cell_type": "markdown",
   "id": "260b7b2d",
   "metadata": {},
   "source": [
    "We can now compare the weights in the formula:\n",
    "\n",
    "$charges = w_1 \\times age + w_2 \\times bmi + w_3 \\times children + w_4 \\times smoker + w_5 \\times sex + w_6 \\times region + b$"
   ]
  },
  {
   "cell_type": "code",
   "execution_count": null,
   "id": "f356db08",
   "metadata": {},
   "outputs": [],
   "source": [
    "weights = pd.DataFrame(model.coef_, index=input_cols, columns=['weight'])\n",
    "weights.sort_values(by='weight', ascending=False, inplace=True)\n",
    "weights"
   ]
  },
  {
   "cell_type": "markdown",
   "id": "b0b3f8b3",
   "metadata": {},
   "source": [
    "As you can see now, the most important feature are:\n",
    "\n",
    "1. `Smoker`\n",
    "2. `Age`\n",
    "3. `BMI`"
   ]
  },
  {
   "cell_type": "code",
   "execution_count": null,
   "id": "26be1692",
   "metadata": {},
   "outputs": [],
   "source": [
    "print(model.predict(np.array([[23, 22, 0, 0, 0, 0, 1, 0, 0]])))\n",
    "print(model.predict(np.array([[40, 30, 2, 1, 1, 0, 0, 0, 1]])))"
   ]
  },
  {
   "cell_type": "markdown",
   "id": "987684b2",
   "metadata": {},
   "source": [
    "##### This says that standardization did not improve the model performance, but it optimizes the dataset to understand the relative importance of each feature better."
   ]
  },
  {
   "cell_type": "markdown",
   "id": "34bc3efe",
   "metadata": {},
   "source": [
    "## Creating a Test Set\n",
    "\n",
    "##### Models like the one we've created in this tutorial are designed to be used in the real world. It's common practice to set aside a small fraction of the data (e.g. 10%) just for testing and reporting the results of the model."
   ]
  },
  {
   "cell_type": "code",
   "execution_count": null,
   "id": "6177e1ea",
   "metadata": {},
   "outputs": [],
   "source": [
    "from sklearn.model_selection import train_test_split\n",
    "train_inputs, test_inputs, train_targets, test_targets = train_test_split(inputs, targets, test_size=0.2, random_state=42, shuffle=True)"
   ]
  },
  {
   "cell_type": "code",
   "execution_count": null,
   "id": "49bfe913",
   "metadata": {},
   "outputs": [],
   "source": [
    "help(train_test_split)"
   ]
  },
  {
   "cell_type": "code",
   "execution_count": null,
   "id": "ca4b5bb0",
   "metadata": {},
   "outputs": [],
   "source": [
    "model = LinearRegression().fit(train_inputs, train_targets)\n",
    "predictions_test = model.predict(test_inputs)\n",
    "\n",
    "loss = rmse(test_targets, predictions_test)\n",
    "print(\"RMSE Loss on Test Set: \", loss)"
   ]
  },
  {
   "cell_type": "code",
   "execution_count": null,
   "id": "7e3fb651",
   "metadata": {},
   "outputs": [],
   "source": [
    "predictions_train = model.predict(train_inputs)\n",
    "train_loss = rmse(train_targets, predictions_train)\n",
    "print(\"RMSE Loss on Train Set: \", train_loss)"
   ]
  },
  {
   "cell_type": "code",
   "execution_count": null,
   "id": "a93150fd",
   "metadata": {},
   "outputs": [],
   "source": []
  }
 ],
 "metadata": {
  "kernelspec": {
   "display_name": "Python 3",
   "language": "python",
   "name": "python3"
  },
  "language_info": {
   "codemirror_mode": {
    "name": "ipython",
    "version": 3
   },
   "file_extension": ".py",
   "mimetype": "text/x-python",
   "name": "python",
   "nbconvert_exporter": "python",
   "pygments_lexer": "ipython3",
   "version": "3.12.10"
  }
 },
 "nbformat": 4,
 "nbformat_minor": 5
}
